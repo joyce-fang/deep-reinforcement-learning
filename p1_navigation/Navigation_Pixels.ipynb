{
 "cells": [
  {
   "cell_type": "markdown",
   "metadata": {},
   "source": [
    "# Navigation\n",
    "\n",
    "---\n",
    "\n",
    "Congratulations for completing the first project of the [Deep Reinforcement Learning Nanodegree](https://www.udacity.com/course/deep-reinforcement-learning-nanodegree--nd893)!  In this notebook, you will learn how to control an agent in a more challenging environment, where it can learn directly from raw pixels!  **Note that this exercise is optional!**\n",
    "\n",
    "### 1. Start the Environment\n",
    "\n",
    "We begin by importing some necessary packages.  If the code cell below returns an error, please revisit the project instructions to double-check that you have installed [Unity ML-Agents](https://github.com/Unity-Technologies/ml-agents/blob/master/docs/Installation.md) and [NumPy](http://www.numpy.org/)."
   ]
  },
  {
   "cell_type": "code",
   "execution_count": 1,
   "metadata": {},
   "outputs": [],
   "source": [
    "from unityagents import UnityEnvironment\n",
    "import numpy as np\n",
    "import matplotlib.pyplot as plt\n",
    "%matplotlib inline"
   ]
  },
  {
   "cell_type": "markdown",
   "metadata": {},
   "source": [
    "Next, we will start the environment!  **_Before running the code cell below_**, change the `file_name` parameter to match the location of the Unity environment that you downloaded.\n",
    "\n",
    "- **Mac**: `\"path/to/VisualBanana.app\"`\n",
    "- **Windows** (x86): `\"path/to/VisualBanana_Windows_x86/Banana.exe\"`\n",
    "- **Windows** (x86_64): `\"path/to/VisualBanana_Windows_x86_64/Banana.exe\"`\n",
    "- **Linux** (x86): `\"path/to/VisualBanana_Linux/Banana.x86\"`\n",
    "- **Linux** (x86_64): `\"path/to/VisualBanana_Linux/Banana.x86_64\"`\n",
    "- **Linux** (x86, headless): `\"path/to/VisualBanana_Linux_NoVis/Banana.x86\"`\n",
    "- **Linux** (x86_64, headless): `\"path/to/VisualBanana_Linux_NoVis/Banana.x86_64\"`\n",
    "\n",
    "For instance, if you are using a Mac, then you downloaded `VisualBanana.app`.  If this file is in the same folder as the notebook, then the line below should appear as follows:\n",
    "```\n",
    "env = UnityEnvironment(file_name=\"VisualBanana.app\")\n",
    "```"
   ]
  },
  {
   "cell_type": "code",
   "execution_count": 2,
   "metadata": {},
   "outputs": [
    {
     "name": "stderr",
     "output_type": "stream",
     "text": [
      "INFO:unityagents:\n",
      "'Academy' started successfully!\n",
      "Unity Academy name: Academy\n",
      "        Number of Brains: 1\n",
      "        Number of External Brains : 1\n",
      "        Lesson number : 0\n",
      "        Reset Parameters :\n",
      "\t\t\n",
      "Unity brain name: BananaBrain\n",
      "        Number of Visual Observations (per agent): 1\n",
      "        Vector Observation space type: continuous\n",
      "        Vector Observation space size (per agent): 0\n",
      "        Number of stacked Vector Observation: 1\n",
      "        Vector Action space type: discrete\n",
      "        Vector Action space size (per agent): 4\n",
      "        Vector Action descriptions: , , , \n"
     ]
    }
   ],
   "source": [
    "banana_pixel_env_path = \"C:/Users/jofan/rl/deep-reinforcement-learning/p1_navigation/VisualBanana_Windows_x86_64/Banana.exe\"\n",
    "env = UnityEnvironment(file_name=banana_pixel_env_path)"
   ]
  },
  {
   "cell_type": "markdown",
   "metadata": {},
   "source": [
    "Environments contain **_brains_** which are responsible for deciding the actions of their associated agents. Here we check for the first brain available, and set it as the default brain we will be controlling from Python."
   ]
  },
  {
   "cell_type": "code",
   "execution_count": 3,
   "metadata": {},
   "outputs": [],
   "source": [
    "# get the default brain\n",
    "brain_name = env.brain_names[0]\n",
    "brain = env.brains[brain_name]"
   ]
  },
  {
   "cell_type": "markdown",
   "metadata": {},
   "source": [
    "### 2. Examine the State and Action Spaces\n",
    "\n",
    "The simulation contains a single agent that navigates a large environment.  At each time step, it has four actions at its disposal:\n",
    "- `0` - walk forward \n",
    "- `1` - walk backward\n",
    "- `2` - turn left\n",
    "- `3` - turn right\n",
    "\n",
    "The environment state is an array of raw pixels with shape `(1, 84, 84, 3)`.  *Note that this code differs from the notebook for the project, where we are grabbing **`visual_observations`** (the raw pixels) instead of **`vector_observations`**.* A reward of `+1` is provided for collecting a yellow banana, and a reward of `-1` is provided for collecting a blue banana. \n",
    "\n",
    "Run the code cell below to print some information about the environment."
   ]
  },
  {
   "cell_type": "code",
   "execution_count": 4,
   "metadata": {},
   "outputs": [
    {
     "name": "stdout",
     "output_type": "stream",
     "text": [
      "Number of agents: 1\n",
      "Number of actions: 4\n",
      "Frame look like:\n"
     ]
    },
    {
     "data": {
      "image/png": "[encoded data removed]",
      "text/plain": [
       "<Figure size 432x288 with 1 Axes>"
      ]
     },
     "metadata": {
      "needs_background": "light"
     },
     "output_type": "display_data"
    },
    {
     "name": "stdout",
     "output_type": "stream",
     "text": [
      "Frame have shape: (1, 84, 84, 3)\n"
     ]
    }
   ],
   "source": [
    "# reset the environment\n",
    "env_info = env.reset(train_mode=True)[brain_name]\n",
    "\n",
    "# number of agents in the environment\n",
    "print('Number of agents:', len(env_info.agents))\n",
    "\n",
    "# number of actions\n",
    "action_size = brain.vector_action_space_size\n",
    "print('Number of actions:', action_size)\n",
    "\n",
    "# examine the state space \n",
    "frame = env_info.visual_observations[0]\n",
    "print('Frame look like:')\n",
    "plt.imshow(np.squeeze(frame))\n",
    "plt.show()\n",
    "frame_size = frame.shape\n",
    "print('Frame have shape:', frame.shape)"
   ]
  },
  {
   "cell_type": "markdown",
   "metadata": {},
   "source": [
    "We wrap the current environment into another banana pixel environment which uses the past n frames as state."
   ]
  },
  {
   "cell_type": "code",
   "execution_count": 36,
   "metadata": {},
   "outputs": [],
   "source": [
    "import importlib\n",
    "import navigation_pixels_env\n",
    "importlib.reload(navigation_pixels_env)\n",
    "wrapped_env = navigation_pixels_env.BananaPixelEnv(env)"
   ]
  },
  {
   "cell_type": "code",
   "execution_count": null,
   "metadata": {},
   "outputs": [],
   "source": []
  },
  {
   "cell_type": "code",
   "execution_count": 37,
   "metadata": {},
   "outputs": [
    {
     "data": {
      "text/plain": [
       "(array([[[[[0.83921569, 0.83921569, 0.83921569, ..., 0.83921569,\n",
       "            0.83921569, 0.83921569],\n",
       "           [0.83921569, 0.83921569, 0.83921569, ..., 0.83921569,\n",
       "            0.83921569, 0.83921569],\n",
       "           [0.83921569, 0.83921569, 0.83921569, ..., 0.83921569,\n",
       "            0.83921569, 0.83921569],\n",
       "           ...,\n",
       "           [0.79607843, 0.79607843, 0.79607843, ..., 0.80392157,\n",
       "            0.80392157, 0.80392157],\n",
       "           [0.79607843, 0.79607843, 0.79607843, ..., 0.80392157,\n",
       "            0.80392157, 0.80392157],\n",
       "           [0.79215686, 0.79215686, 0.79215686, ..., 0.8       ,\n",
       "            0.8       , 0.8       ]],\n",
       " \n",
       "          [[0.83921569, 0.83921569, 0.83921569, ..., 0.83921569,\n",
       "            0.83921569, 0.83921569],\n",
       "           [0.83921569, 0.83921569, 0.83921569, ..., 0.83921569,\n",
       "            0.83921569, 0.83921569],\n",
       "           [0.83921569, 0.83921569, 0.83921569, ..., 0.83921569,\n",
       "            0.83921569, 0.83921569],\n",
       "           ...,\n",
       "           [0.79607843, 0.79607843, 0.79607843, ..., 0.80392157,\n",
       "            0.80392157, 0.80392157],\n",
       "           [0.79607843, 0.79607843, 0.79607843, ..., 0.80392157,\n",
       "            0.80392157, 0.80392157],\n",
       "           [0.79215686, 0.79215686, 0.79215686, ..., 0.8       ,\n",
       "            0.8       , 0.8       ]],\n",
       " \n",
       "          [[0.        , 0.        , 0.        , ..., 0.        ,\n",
       "            0.        , 0.        ],\n",
       "           [0.        , 0.        , 0.        , ..., 0.        ,\n",
       "            0.        , 0.        ],\n",
       "           [0.        , 0.        , 0.        , ..., 0.        ,\n",
       "            0.        , 0.        ],\n",
       "           ...,\n",
       "           [0.        , 0.        , 0.        , ..., 0.        ,\n",
       "            0.        , 0.        ],\n",
       "           [0.        , 0.        , 0.        , ..., 0.        ,\n",
       "            0.        , 0.        ],\n",
       "           [0.        , 0.        , 0.        , ..., 0.        ,\n",
       "            0.        , 0.        ]],\n",
       " \n",
       "          [[0.        , 0.        , 0.        , ..., 0.        ,\n",
       "            0.        , 0.        ],\n",
       "           [0.        , 0.        , 0.        , ..., 0.        ,\n",
       "            0.        , 0.        ],\n",
       "           [0.        , 0.        , 0.        , ..., 0.        ,\n",
       "            0.        , 0.        ],\n",
       "           ...,\n",
       "           [0.        , 0.        , 0.        , ..., 0.        ,\n",
       "            0.        , 0.        ],\n",
       "           [0.        , 0.        , 0.        , ..., 0.        ,\n",
       "            0.        , 0.        ],\n",
       "           [0.        , 0.        , 0.        , ..., 0.        ,\n",
       "            0.        , 0.        ]]],\n",
       " \n",
       " \n",
       "         [[[0.7254902 , 0.7254902 , 0.7254902 , ..., 0.7254902 ,\n",
       "            0.7254902 , 0.7254902 ],\n",
       "           [0.7254902 , 0.7254902 , 0.7254902 , ..., 0.7254902 ,\n",
       "            0.7254902 , 0.7254902 ],\n",
       "           [0.7254902 , 0.7254902 , 0.7254902 , ..., 0.7254902 ,\n",
       "            0.7254902 , 0.7254902 ],\n",
       "           ...,\n",
       "           [0.74509804, 0.74509804, 0.74509804, ..., 0.75294118,\n",
       "            0.75294118, 0.75294118],\n",
       "           [0.74509804, 0.74509804, 0.74509804, ..., 0.75294118,\n",
       "            0.75294118, 0.75294118],\n",
       "           [0.74117647, 0.74117647, 0.74117647, ..., 0.74901961,\n",
       "            0.74901961, 0.74901961]],\n",
       " \n",
       "          [[0.7254902 , 0.7254902 , 0.7254902 , ..., 0.7254902 ,\n",
       "            0.7254902 , 0.7254902 ],\n",
       "           [0.7254902 , 0.7254902 , 0.7254902 , ..., 0.7254902 ,\n",
       "            0.7254902 , 0.7254902 ],\n",
       "           [0.7254902 , 0.7254902 , 0.7254902 , ..., 0.7254902 ,\n",
       "            0.7254902 , 0.7254902 ],\n",
       "           ...,\n",
       "           [0.74509804, 0.74509804, 0.74509804, ..., 0.75294118,\n",
       "            0.75294118, 0.75294118],\n",
       "           [0.74509804, 0.74509804, 0.74509804, ..., 0.75294118,\n",
       "            0.75294118, 0.75294118],\n",
       "           [0.74117647, 0.74117647, 0.74117647, ..., 0.74901961,\n",
       "            0.74901961, 0.74901961]],\n",
       " \n",
       "          [[0.        , 0.        , 0.        , ..., 0.        ,\n",
       "            0.        , 0.        ],\n",
       "           [0.        , 0.        , 0.        , ..., 0.        ,\n",
       "            0.        , 0.        ],\n",
       "           [0.        , 0.        , 0.        , ..., 0.        ,\n",
       "            0.        , 0.        ],\n",
       "           ...,\n",
       "           [0.        , 0.        , 0.        , ..., 0.        ,\n",
       "            0.        , 0.        ],\n",
       "           [0.        , 0.        , 0.        , ..., 0.        ,\n",
       "            0.        , 0.        ],\n",
       "           [0.        , 0.        , 0.        , ..., 0.        ,\n",
       "            0.        , 0.        ]],\n",
       " \n",
       "          [[0.        , 0.        , 0.        , ..., 0.        ,\n",
       "            0.        , 0.        ],\n",
       "           [0.        , 0.        , 0.        , ..., 0.        ,\n",
       "            0.        , 0.        ],\n",
       "           [0.        , 0.        , 0.        , ..., 0.        ,\n",
       "            0.        , 0.        ],\n",
       "           ...,\n",
       "           [0.        , 0.        , 0.        , ..., 0.        ,\n",
       "            0.        , 0.        ],\n",
       "           [0.        , 0.        , 0.        , ..., 0.        ,\n",
       "            0.        , 0.        ],\n",
       "           [0.        , 0.        , 0.        , ..., 0.        ,\n",
       "            0.        , 0.        ]]],\n",
       " \n",
       " \n",
       "         [[[0.59215686, 0.59215686, 0.59215686, ..., 0.59215686,\n",
       "            0.59215686, 0.59215686],\n",
       "           [0.59215686, 0.59215686, 0.59215686, ..., 0.59215686,\n",
       "            0.59215686, 0.59215686],\n",
       "           [0.59215686, 0.59215686, 0.59215686, ..., 0.59215686,\n",
       "            0.59215686, 0.59215686],\n",
       "           ...,\n",
       "           [0.68235294, 0.68235294, 0.68235294, ..., 0.68627451,\n",
       "            0.68627451, 0.68627451],\n",
       "           [0.68235294, 0.68235294, 0.68235294, ..., 0.68627451,\n",
       "            0.68627451, 0.68627451],\n",
       "           [0.67843137, 0.67843137, 0.67843137, ..., 0.68235294,\n",
       "            0.68235294, 0.68235294]],\n",
       " \n",
       "          [[0.59215686, 0.59215686, 0.59215686, ..., 0.59215686,\n",
       "            0.59215686, 0.59215686],\n",
       "           [0.59215686, 0.59215686, 0.59215686, ..., 0.59215686,\n",
       "            0.59215686, 0.59215686],\n",
       "           [0.59215686, 0.59215686, 0.59215686, ..., 0.59215686,\n",
       "            0.59215686, 0.59215686],\n",
       "           ...,\n",
       "           [0.68235294, 0.68235294, 0.68235294, ..., 0.68627451,\n",
       "            0.68627451, 0.68627451],\n",
       "           [0.68235294, 0.68235294, 0.68235294, ..., 0.68627451,\n",
       "            0.68627451, 0.68627451],\n",
       "           [0.67843137, 0.67843137, 0.67843137, ..., 0.68235294,\n",
       "            0.68235294, 0.68235294]],\n",
       " \n",
       "          [[0.        , 0.        , 0.        , ..., 0.        ,\n",
       "            0.        , 0.        ],\n",
       "           [0.        , 0.        , 0.        , ..., 0.        ,\n",
       "            0.        , 0.        ],\n",
       "           [0.        , 0.        , 0.        , ..., 0.        ,\n",
       "            0.        , 0.        ],\n",
       "           ...,\n",
       "           [0.        , 0.        , 0.        , ..., 0.        ,\n",
       "            0.        , 0.        ],\n",
       "           [0.        , 0.        , 0.        , ..., 0.        ,\n",
       "            0.        , 0.        ],\n",
       "           [0.        , 0.        , 0.        , ..., 0.        ,\n",
       "            0.        , 0.        ]],\n",
       " \n",
       "          [[0.        , 0.        , 0.        , ..., 0.        ,\n",
       "            0.        , 0.        ],\n",
       "           [0.        , 0.        , 0.        , ..., 0.        ,\n",
       "            0.        , 0.        ],\n",
       "           [0.        , 0.        , 0.        , ..., 0.        ,\n",
       "            0.        , 0.        ],\n",
       "           ...,\n",
       "           [0.        , 0.        , 0.        , ..., 0.        ,\n",
       "            0.        , 0.        ],\n",
       "           [0.        , 0.        , 0.        , ..., 0.        ,\n",
       "            0.        , 0.        ],\n",
       "           [0.        , 0.        , 0.        , ..., 0.        ,\n",
       "            0.        , 0.        ]]]]]), 0.0, False, None)"
      ]
     },
     "execution_count": 37,
     "metadata": {},
     "output_type": "execute_result"
    }
   ],
   "source": [
    "state = wrapped_env.reset()\n",
    "state_size = state.shape\n",
    "state = wrapped_env.step(0)\n",
    "state"
   ]
  },
  {
   "cell_type": "markdown",
   "metadata": {},
   "source": [
    "### 3. Train DQN Agent"
   ]
  },
  {
   "cell_type": "code",
   "execution_count": 38,
   "metadata": {},
   "outputs": [],
   "source": [
    "import dqn_agent\n",
    "import importlib\n",
    "importlib.reload(dqn_agent)\n",
    "import model\n",
    "from matplotlib.pylab import plt"
   ]
  },
  {
   "cell_type": "code",
   "execution_count": 39,
   "metadata": {},
   "outputs": [
    {
     "name": "stdout",
     "output_type": "stream",
     "text": [
      "Convolution output size: 2304\n",
      "Convolution output size: 2304\n"
     ]
    }
   ],
   "source": [
    "# Start agent\n",
    "agent = dqn_agent.Agent(state_size, action_size, 100, is_pixel=True)\n"
   ]
  },
  {
   "cell_type": "code",
   "execution_count": 40,
   "metadata": {},
   "outputs": [
    {
     "data": {
      "text/plain": [
       "32"
      ]
     },
     "execution_count": 40,
     "metadata": {},
     "output_type": "execute_result"
    }
   ],
   "source": [
    "x = np.int32(32)\n",
    "np.int32(x).astype(np.int32)"
   ]
  },
  {
   "cell_type": "code",
   "execution_count": 41,
   "metadata": {},
   "outputs": [
    {
     "name": "stdout",
     "output_type": "stream",
     "text": [
      "Episode 100\tAverage Score: -0.02\n",
      "Episode 142\tAverage Score: 0.053"
     ]
    },
    {
     "ename": "KeyboardInterrupt",
     "evalue": "",
     "output_type": "error",
     "traceback": [
      "\u001b[1;31m---------------------------------------------------------------------------\u001b[0m",
      "\u001b[1;31mKeyboardInterrupt\u001b[0m                         Traceback (most recent call last)",
      "\u001b[1;32m<ipython-input-41-243fe97d3de2>\u001b[0m in \u001b[0;36m<module>\u001b[1;34m\u001b[0m\n\u001b[0;32m      1\u001b[0m \u001b[1;31m# Run DQN\u001b[0m\u001b[1;33m\u001b[0m\u001b[1;33m\u001b[0m\u001b[1;33m\u001b[0m\u001b[0m\n\u001b[1;32m----> 2\u001b[1;33m \u001b[0mscores\u001b[0m \u001b[1;33m=\u001b[0m \u001b[0mdqn_agent\u001b[0m\u001b[1;33m.\u001b[0m\u001b[0mdqn\u001b[0m\u001b[1;33m(\u001b[0m\u001b[0magent\u001b[0m\u001b[1;33m,\u001b[0m \u001b[0mwrapped_env\u001b[0m\u001b[1;33m,\u001b[0m \u001b[0mis_pixel\u001b[0m\u001b[1;33m=\u001b[0m\u001b[1;32mTrue\u001b[0m\u001b[1;33m)\u001b[0m\u001b[1;33m\u001b[0m\u001b[1;33m\u001b[0m\u001b[0m\n\u001b[0m",
      "\u001b[1;32m~\\rl\\deep-reinforcement-learning\\p1_navigation\\dqn_agent.py\u001b[0m in \u001b[0;36mdqn\u001b[1;34m(agent, env, n_episodes, max_t, eps_start, eps_end, eps_decay, min_score_goal, is_pixel)\u001b[0m\n\u001b[0;32m     54\u001b[0m                 \u001b[0mreward\u001b[0m \u001b[1;33m=\u001b[0m \u001b[0menv_info\u001b[0m\u001b[1;33m.\u001b[0m\u001b[0mrewards\u001b[0m\u001b[1;33m[\u001b[0m\u001b[1;36m0\u001b[0m\u001b[1;33m]\u001b[0m\u001b[1;33m\u001b[0m\u001b[1;33m\u001b[0m\u001b[0m\n\u001b[0;32m     55\u001b[0m                 \u001b[0mdone\u001b[0m \u001b[1;33m=\u001b[0m \u001b[0menv_info\u001b[0m\u001b[1;33m.\u001b[0m\u001b[0mlocal_done\u001b[0m\u001b[1;33m[\u001b[0m\u001b[1;36m0\u001b[0m\u001b[1;33m]\u001b[0m\u001b[1;33m\u001b[0m\u001b[1;33m\u001b[0m\u001b[0m\n\u001b[1;32m---> 56\u001b[1;33m             \u001b[0magent\u001b[0m\u001b[1;33m.\u001b[0m\u001b[0mstep\u001b[0m\u001b[1;33m(\u001b[0m\u001b[0mstate\u001b[0m\u001b[1;33m,\u001b[0m \u001b[0maction\u001b[0m\u001b[1;33m,\u001b[0m \u001b[0mreward\u001b[0m\u001b[1;33m,\u001b[0m \u001b[0mnext_state\u001b[0m\u001b[1;33m,\u001b[0m \u001b[0mdone\u001b[0m\u001b[1;33m)\u001b[0m\u001b[1;33m\u001b[0m\u001b[1;33m\u001b[0m\u001b[0m\n\u001b[0m\u001b[0;32m     57\u001b[0m             \u001b[0mstate\u001b[0m \u001b[1;33m=\u001b[0m \u001b[0mnext_state\u001b[0m\u001b[1;33m\u001b[0m\u001b[1;33m\u001b[0m\u001b[0m\n\u001b[0;32m     58\u001b[0m             \u001b[0mscore\u001b[0m \u001b[1;33m+=\u001b[0m \u001b[0mreward\u001b[0m\u001b[1;33m\u001b[0m\u001b[1;33m\u001b[0m\u001b[0m\n",
      "\u001b[1;32m~\\rl\\deep-reinforcement-learning\\p1_navigation\\dqn_agent.py\u001b[0m in \u001b[0;36mstep\u001b[1;34m(self, state, action, reward, next_state, done)\u001b[0m\n\u001b[0;32m    113\u001b[0m             \u001b[1;31m# If enough samples are available in memory, get random subset and learn\u001b[0m\u001b[1;33m\u001b[0m\u001b[1;33m\u001b[0m\u001b[1;33m\u001b[0m\u001b[0m\n\u001b[0;32m    114\u001b[0m             \u001b[1;32mif\u001b[0m \u001b[0mlen\u001b[0m\u001b[1;33m(\u001b[0m\u001b[0mself\u001b[0m\u001b[1;33m.\u001b[0m\u001b[0mmemory\u001b[0m\u001b[1;33m)\u001b[0m \u001b[1;33m>\u001b[0m \u001b[0mBATCH_SIZE\u001b[0m\u001b[1;33m:\u001b[0m\u001b[1;33m\u001b[0m\u001b[1;33m\u001b[0m\u001b[0m\n\u001b[1;32m--> 115\u001b[1;33m                 \u001b[0mexperiences\u001b[0m \u001b[1;33m=\u001b[0m \u001b[0mself\u001b[0m\u001b[1;33m.\u001b[0m\u001b[0mmemory\u001b[0m\u001b[1;33m.\u001b[0m\u001b[0msample\u001b[0m\u001b[1;33m(\u001b[0m\u001b[1;33m)\u001b[0m\u001b[1;33m\u001b[0m\u001b[1;33m\u001b[0m\u001b[0m\n\u001b[0m\u001b[0;32m    116\u001b[0m                 \u001b[0mself\u001b[0m\u001b[1;33m.\u001b[0m\u001b[0mlearn\u001b[0m\u001b[1;33m(\u001b[0m\u001b[0mexperiences\u001b[0m\u001b[1;33m,\u001b[0m \u001b[0mGAMMA\u001b[0m\u001b[1;33m)\u001b[0m\u001b[1;33m\u001b[0m\u001b[1;33m\u001b[0m\u001b[0m\n\u001b[0;32m    117\u001b[0m \u001b[1;33m\u001b[0m\u001b[0m\n",
      "\u001b[1;32m~\\rl\\deep-reinforcement-learning\\p1_navigation\\dqn_agent.py\u001b[0m in \u001b[0;36msample\u001b[1;34m(self)\u001b[0m\n\u001b[0;32m    212\u001b[0m         \u001b[0mactions\u001b[0m \u001b[1;33m=\u001b[0m \u001b[0mtorch\u001b[0m\u001b[1;33m.\u001b[0m\u001b[0mfrom_numpy\u001b[0m\u001b[1;33m(\u001b[0m\u001b[0mnp\u001b[0m\u001b[1;33m.\u001b[0m\u001b[0mvstack\u001b[0m\u001b[1;33m(\u001b[0m\u001b[1;33m[\u001b[0m\u001b[0me\u001b[0m\u001b[1;33m.\u001b[0m\u001b[0maction\u001b[0m \u001b[1;32mfor\u001b[0m \u001b[0me\u001b[0m \u001b[1;32min\u001b[0m \u001b[0mexperiences\u001b[0m \u001b[1;32mif\u001b[0m \u001b[0me\u001b[0m \u001b[1;32mis\u001b[0m \u001b[1;32mnot\u001b[0m \u001b[1;32mNone\u001b[0m\u001b[1;33m]\u001b[0m\u001b[1;33m)\u001b[0m\u001b[1;33m)\u001b[0m\u001b[1;33m.\u001b[0m\u001b[0mlong\u001b[0m\u001b[1;33m(\u001b[0m\u001b[1;33m)\u001b[0m\u001b[1;33m.\u001b[0m\u001b[0mto\u001b[0m\u001b[1;33m(\u001b[0m\u001b[0mdevice\u001b[0m\u001b[1;33m)\u001b[0m\u001b[1;33m\u001b[0m\u001b[1;33m\u001b[0m\u001b[0m\n\u001b[0;32m    213\u001b[0m         \u001b[0mrewards\u001b[0m \u001b[1;33m=\u001b[0m \u001b[0mtorch\u001b[0m\u001b[1;33m.\u001b[0m\u001b[0mfrom_numpy\u001b[0m\u001b[1;33m(\u001b[0m\u001b[0mnp\u001b[0m\u001b[1;33m.\u001b[0m\u001b[0mvstack\u001b[0m\u001b[1;33m(\u001b[0m\u001b[1;33m[\u001b[0m\u001b[0me\u001b[0m\u001b[1;33m.\u001b[0m\u001b[0mreward\u001b[0m \u001b[1;32mfor\u001b[0m \u001b[0me\u001b[0m \u001b[1;32min\u001b[0m \u001b[0mexperiences\u001b[0m \u001b[1;32mif\u001b[0m \u001b[0me\u001b[0m \u001b[1;32mis\u001b[0m \u001b[1;32mnot\u001b[0m \u001b[1;32mNone\u001b[0m\u001b[1;33m]\u001b[0m\u001b[1;33m)\u001b[0m\u001b[1;33m)\u001b[0m\u001b[1;33m.\u001b[0m\u001b[0mfloat\u001b[0m\u001b[1;33m(\u001b[0m\u001b[1;33m)\u001b[0m\u001b[1;33m.\u001b[0m\u001b[0mto\u001b[0m\u001b[1;33m(\u001b[0m\u001b[0mdevice\u001b[0m\u001b[1;33m)\u001b[0m\u001b[1;33m\u001b[0m\u001b[1;33m\u001b[0m\u001b[0m\n\u001b[1;32m--> 214\u001b[1;33m         \u001b[0mnext_states\u001b[0m \u001b[1;33m=\u001b[0m \u001b[0mtorch\u001b[0m\u001b[1;33m.\u001b[0m\u001b[0mfrom_numpy\u001b[0m\u001b[1;33m(\u001b[0m\u001b[0mnp\u001b[0m\u001b[1;33m.\u001b[0m\u001b[0mvstack\u001b[0m\u001b[1;33m(\u001b[0m\u001b[1;33m[\u001b[0m\u001b[0me\u001b[0m\u001b[1;33m.\u001b[0m\u001b[0mnext_state\u001b[0m \u001b[1;32mfor\u001b[0m \u001b[0me\u001b[0m \u001b[1;32min\u001b[0m \u001b[0mexperiences\u001b[0m \u001b[1;32mif\u001b[0m \u001b[0me\u001b[0m \u001b[1;32mis\u001b[0m \u001b[1;32mnot\u001b[0m \u001b[1;32mNone\u001b[0m\u001b[1;33m]\u001b[0m\u001b[1;33m)\u001b[0m\u001b[1;33m)\u001b[0m\u001b[1;33m.\u001b[0m\u001b[0mfloat\u001b[0m\u001b[1;33m(\u001b[0m\u001b[1;33m)\u001b[0m\u001b[1;33m.\u001b[0m\u001b[0mto\u001b[0m\u001b[1;33m(\u001b[0m\u001b[0mdevice\u001b[0m\u001b[1;33m)\u001b[0m\u001b[1;33m\u001b[0m\u001b[1;33m\u001b[0m\u001b[0m\n\u001b[0m\u001b[0;32m    215\u001b[0m         \u001b[0mdones\u001b[0m \u001b[1;33m=\u001b[0m \u001b[0mtorch\u001b[0m\u001b[1;33m.\u001b[0m\u001b[0mfrom_numpy\u001b[0m\u001b[1;33m(\u001b[0m\u001b[0mnp\u001b[0m\u001b[1;33m.\u001b[0m\u001b[0mvstack\u001b[0m\u001b[1;33m(\u001b[0m\u001b[1;33m[\u001b[0m\u001b[0me\u001b[0m\u001b[1;33m.\u001b[0m\u001b[0mdone\u001b[0m \u001b[1;32mfor\u001b[0m \u001b[0me\u001b[0m \u001b[1;32min\u001b[0m \u001b[0mexperiences\u001b[0m \u001b[1;32mif\u001b[0m \u001b[0me\u001b[0m \u001b[1;32mis\u001b[0m \u001b[1;32mnot\u001b[0m \u001b[1;32mNone\u001b[0m\u001b[1;33m]\u001b[0m\u001b[1;33m)\u001b[0m\u001b[1;33m.\u001b[0m\u001b[0mastype\u001b[0m\u001b[1;33m(\u001b[0m\u001b[0mnp\u001b[0m\u001b[1;33m.\u001b[0m\u001b[0muint8\u001b[0m\u001b[1;33m)\u001b[0m\u001b[1;33m)\u001b[0m\u001b[1;33m.\u001b[0m\u001b[0mfloat\u001b[0m\u001b[1;33m(\u001b[0m\u001b[1;33m)\u001b[0m\u001b[1;33m.\u001b[0m\u001b[0mto\u001b[0m\u001b[1;33m(\u001b[0m\u001b[0mdevice\u001b[0m\u001b[1;33m)\u001b[0m\u001b[1;33m\u001b[0m\u001b[1;33m\u001b[0m\u001b[0m\n\u001b[0;32m    216\u001b[0m \u001b[1;33m\u001b[0m\u001b[0m\n",
      "\u001b[1;32mC:\\Anaconda3\\envs\\drlnd\\lib\\site-packages\\numpy\\core\\shape_base.py\u001b[0m in \u001b[0;36mvstack\u001b[1;34m(tup)\u001b[0m\n\u001b[0;32m    281\u001b[0m     \"\"\"\n\u001b[0;32m    282\u001b[0m     \u001b[0m_warn_for_nonsequence\u001b[0m\u001b[1;33m(\u001b[0m\u001b[0mtup\u001b[0m\u001b[1;33m)\u001b[0m\u001b[1;33m\u001b[0m\u001b[1;33m\u001b[0m\u001b[0m\n\u001b[1;32m--> 283\u001b[1;33m     \u001b[1;32mreturn\u001b[0m \u001b[0m_nx\u001b[0m\u001b[1;33m.\u001b[0m\u001b[0mconcatenate\u001b[0m\u001b[1;33m(\u001b[0m\u001b[1;33m[\u001b[0m\u001b[0matleast_2d\u001b[0m\u001b[1;33m(\u001b[0m\u001b[0m_m\u001b[0m\u001b[1;33m)\u001b[0m \u001b[1;32mfor\u001b[0m \u001b[0m_m\u001b[0m \u001b[1;32min\u001b[0m \u001b[0mtup\u001b[0m\u001b[1;33m]\u001b[0m\u001b[1;33m,\u001b[0m \u001b[1;36m0\u001b[0m\u001b[1;33m)\u001b[0m\u001b[1;33m\u001b[0m\u001b[1;33m\u001b[0m\u001b[0m\n\u001b[0m\u001b[0;32m    284\u001b[0m \u001b[1;33m\u001b[0m\u001b[0m\n\u001b[0;32m    285\u001b[0m \u001b[1;33m\u001b[0m\u001b[0m\n",
      "\u001b[1;31mKeyboardInterrupt\u001b[0m: "
     ]
    }
   ],
   "source": [
    "# Run DQN\n",
    "scores = dqn_agent.dqn(agent, wrapped_env, is_pixel=True)"
   ]
  },
  {
   "cell_type": "code",
   "execution_count": null,
   "metadata": {},
   "outputs": [],
   "source": [
    "env_info = env.reset(train_mode=False)[brain_name] # reset the environment\n",
    "state = env_info.visual_observations[0]            # get the current state\n",
    "score = 0                                          # initialize the score\n",
    "while True:\n",
    "    action = np.random.randint(action_size)        # select an action\n",
    "    next_state, reward, done, _ = wrapped_env.step(action)\n",
    "    score += reward                                # update the score\n",
    "    state = next_state                             # roll over the state to next time step\n",
    "    if done:                                       # exit loop if episode finished\n",
    "        break\n",
    "    \n",
    "print(\"Score: {}\".format(score))"
   ]
  },
  {
   "cell_type": "markdown",
   "metadata": {},
   "source": [
    "When finished, you can close the environment."
   ]
  },
  {
   "cell_type": "code",
   "execution_count": null,
   "metadata": {},
   "outputs": [],
   "source": [
    "#env.close()"
   ]
  }
 ],
 "metadata": {
  "kernelspec": {
   "display_name": "drlnd",
   "language": "python",
   "name": "drlnd"
  },
  "language_info": {
   "codemirror_mode": {
    "name": "ipython",
    "version": 3
   },
   "file_extension": ".py",
   "mimetype": "text/x-python",
   "name": "python",
   "nbconvert_exporter": "python",
   "pygments_lexer": "ipython3",
   "version": "3.6.8"
  }
 },
 "nbformat": 4,
 "nbformat_minor": 2
}
