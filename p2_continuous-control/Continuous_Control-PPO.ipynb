{
 "cells": [
  {
   "cell_type": "markdown",
   "metadata": {},
   "source": [
    "# Continuous Control\n",
    "\n",
    "---\n",
    "\n",
    "In this notebook, you will learn how to use the Unity ML-Agents environment for the second project of the [Deep Reinforcement Learning Nanodegree](https://www.udacity.com/course/deep-reinforcement-learning-nanodegree--nd893) program.\n",
    "\n",
    "## Unity Environment\n",
    "\n",
    "We begin by importing the necessary packages.  If the code cell below returns an error, please revisit the project instructions to double-check that you have installed [Unity ML-Agents](https://github.com/Unity-Technologies/ml-agents/blob/master/docs/Installation.md) and [NumPy](http://www.numpy.org/)."
   ]
  },
  {
   "cell_type": "code",
   "execution_count": 1,
   "metadata": {},
   "outputs": [],
   "source": [
    "from unityagents import UnityEnvironment\n",
    "import numpy as np"
   ]
  },
  {
   "cell_type": "markdown",
   "metadata": {},
   "source": [
    "Next, we will start the environment!  **_Before running the code cell below_**, change the `unity_env_filename` parameter to match the location of the Unity environment that you downloaded.\n",
    "\n",
    "- **Mac**: `\"path/to/Reacher.app\"`\n",
    "- **Windows** (x86): `\"path/to/Reacher_Windows_x86/Reacher.exe\"`\n",
    "- **Windows** (x86_64): `\"path/to/Reacher_Windows_x86_64/Reacher.exe\"`\n",
    "- **Linux** (x86): `\"path/to/Reacher_Linux/Reacher.x86\"`\n",
    "- **Linux** (x86_64): `\"path/to/Reacher_Linux/Reacher.x86_64\"`\n",
    "- **Linux** (x86, headless): `\"path/to/Reacher_Linux_NoVis/Reacher.x86\"`\n",
    "- **Linux** (x86_64, headless): `\"path/to/Reacher_Linux_NoVis/Reacher.x86_64\"`\n",
    "\n",
    "For instance, if you are using a Mac, then you downloaded `Reacher.app`.  If this file is in the same folder as the notebook, then the line below should appear as follows:\n",
    "```\n",
    "unity_env_filename=\"Reacher.app\"\n",
    "```"
   ]
  },
  {
   "cell_type": "code",
   "execution_count": 2,
   "metadata": {},
   "outputs": [
    {
     "name": "stderr",
     "output_type": "stream",
     "text": [
      "INFO:unityagents:\n",
      "'Academy' started successfully!\n",
      "Unity Academy name: Academy\n",
      "        Number of Brains: 1\n",
      "        Number of External Brains : 1\n",
      "        Lesson number : 0\n",
      "        Reset Parameters :\n",
      "\t\tgoal_speed -> 1.0\n",
      "\t\tgoal_size -> 5.0\n",
      "Unity brain name: ReacherBrain\n",
      "        Number of Visual Observations (per agent): 0\n",
      "        Vector Observation space type: continuous\n",
      "        Vector Observation space size (per agent): 33\n",
      "        Number of stacked Vector Observation: 1\n",
      "        Vector Action space type: continuous\n",
      "        Vector Action space size (per agent): 4\n",
      "        Vector Action descriptions: , , , \n"
     ]
    }
   ],
   "source": [
    "unity_env_filename = r\"C:\\Users\\jofan\\rl\\deep-reinforcement-learning\\p2_continuous-control\\Reacher_Windows_x86_64\\Reacher.exe\"\n",
    "env = UnityEnvironment(file_name=unity_env_filename)\n",
    "# get the default brain\n",
    "brain_name = env.brain_names[0]\n",
    "brain = env.brains[brain_name]"
   ]
  },
  {
   "cell_type": "code",
   "execution_count": 3,
   "metadata": {},
   "outputs": [
    {
     "name": "stdout",
     "output_type": "stream",
     "text": [
      "Number of agents: 20\n",
      "Size of each action: 4\n",
      "There are 20 agents. Each observes a state with length: 33\n",
      "The state for the first agent looks like: [ 0.00000000e+00 -4.00000000e+00  0.00000000e+00  1.00000000e+00\n",
      " -0.00000000e+00 -0.00000000e+00 -4.37113883e-08  0.00000000e+00\n",
      "  0.00000000e+00  0.00000000e+00  0.00000000e+00  0.00000000e+00\n",
      "  0.00000000e+00  0.00000000e+00 -1.00000000e+01  0.00000000e+00\n",
      "  1.00000000e+00 -0.00000000e+00 -0.00000000e+00 -4.37113883e-08\n",
      "  0.00000000e+00  0.00000000e+00  0.00000000e+00  0.00000000e+00\n",
      "  0.00000000e+00  0.00000000e+00  5.75471878e+00 -1.00000000e+00\n",
      "  5.55726624e+00  0.00000000e+00  1.00000000e+00  0.00000000e+00\n",
      " -1.68164849e-01]\n"
     ]
    }
   ],
   "source": [
    "# reset the environment\n",
    "env_info = env.reset(train_mode=True)[brain_name]\n",
    "\n",
    "# number of agents\n",
    "num_agents = len(env_info.agents)\n",
    "print('Number of agents:', num_agents)\n",
    "\n",
    "# size of each action\n",
    "action_size = brain.vector_action_space_size\n",
    "print('Size of each action:', action_size)\n",
    "\n",
    "# examine the state space \n",
    "states = env_info.vector_observations\n",
    "state_size = states.shape[1]\n",
    "print('There are {} agents. Each observes a state with length: {}'.format(states.shape[0], state_size))\n",
    "print('The state for the first agent looks like:', states[0])"
   ]
  },
  {
   "cell_type": "code",
   "execution_count": 4,
   "metadata": {},
   "outputs": [
    {
     "name": "stdout",
     "output_type": "stream",
     "text": [
      "Total score (averaged over agents) this episode: 0.13199999704957008\n"
     ]
    }
   ],
   "source": [
    "env_info = env.reset(train_mode=False)[brain_name]     # reset the environment    \n",
    "states = env_info.vector_observations                  # get the current state (for each agent)\n",
    "scores = np.zeros(num_agents)                          # initialize the score (for each agent)\n",
    "while True:\n",
    "    actions = np.random.randn(num_agents, action_size) # select an action (for each agent)\n",
    "    actions = np.clip(actions, -1, 1)                  # all actions between -1 and 1\n",
    "    env_info = env.step(actions)[brain_name]           # send all actions to tne environment\n",
    "    next_states = env_info.vector_observations         # get next state (for each agent)\n",
    "    rewards = env_info.rewards                         # get reward (for each agent)\n",
    "    dones = env_info.local_done                        # see if episode finished\n",
    "    scores += env_info.rewards                         # update the score (for each agent)\n",
    "    states = next_states                               # roll over states to next time step\n",
    "    if np.any(dones):                                  # exit loop if episode finished\n",
    "        break\n",
    "print('Total score (averaged over agents) this episode: {}'.format(np.mean(scores)))"
   ]
  },
  {
   "cell_type": "markdown",
   "metadata": {},
   "source": [
    "## PPO Agent\n",
    "\n",
    "Here we folked the DeepRL repository https://github.com/ShangtongZhang/DeepRL and adapt it to run this project (see https://github.com/joyce-fang/DeepRL/tree/drlnd-p2 for the changes)"
   ]
  },
  {
   "cell_type": "code",
   "execution_count": 5,
   "metadata": {},
   "outputs": [],
   "source": [
    "import os\n",
    "import sys\n",
    "module_path = os.path.abspath(os.path.join('..'))\n",
    "if module_path not in sys.path:\n",
    "    sys.path.append(module_path)\n"
   ]
  },
  {
   "cell_type": "code",
   "execution_count": 6,
   "metadata": {},
   "outputs": [],
   "source": [
    "from DeepRL.deep_rl import utils, network, agent\n",
    "import torch\n",
    "import reacher_env"
   ]
  },
  {
   "cell_type": "code",
   "execution_count": 7,
   "metadata": {},
   "outputs": [],
   "source": [
    "wrapped_env = reacher_env.ReacherEnv(env)"
   ]
  },
  {
   "cell_type": "code",
   "execution_count": 8,
   "metadata": {},
   "outputs": [],
   "source": [
    "config = agent.PPOAgent.generate_config(utils)#, reacher_env, unity_env_filename)"
   ]
  },
  {
   "cell_type": "markdown",
   "metadata": {},
   "source": [
    "### Training with PPO agent"
   ]
  },
  {
   "cell_type": "code",
   "execution_count": 9,
   "metadata": {},
   "outputs": [
    {
     "name": "stdout",
     "output_type": "stream",
     "text": [
      "# episode: 1 --- total score (averaged over agents) this episode: 0.09499999787658453\n",
      "# episode: 2 --- total score (averaged over agents) this episode: 0.3089999930933118\n",
      "# episode: 3 --- total score (averaged over agents) this episode: 0.859499980788678\n",
      "# episode: 4 --- total score (averaged over agents) this episode: 1.0319999769330024\n",
      "# episode: 5 --- total score (averaged over agents) this episode: 1.1259999748319387\n",
      "# episode: 6 --- total score (averaged over agents) this episode: 1.4609999673441052\n",
      "# episode: 7 --- total score (averaged over agents) this episode: 1.4824999668635428\n",
      "# episode: 8 --- total score (averaged over agents) this episode: 1.4474999676458538\n",
      "# episode: 9 --- total score (averaged over agents) this episode: 1.9189999571070075\n",
      "# episode: 10 --- total score (averaged over agents) this episode: 1.4114999684505165\n",
      "# episode: 11 --- total score (averaged over agents) this episode: 1.676499962527305\n",
      "# episode: 12 --- total score (averaged over agents) this episode: 1.684999962337315\n",
      "# episode: 13 --- total score (averaged over agents) this episode: 1.4624999673105776\n",
      "# episode: 14 --- total score (averaged over agents) this episode: 1.552999965287745\n",
      "# episode: 15 --- total score (averaged over agents) this episode: 1.5324999657459557\n",
      "# episode: 16 --- total score (averaged over agents) this episode: 2.0619999539107083\n",
      "# episode: 17 --- total score (averaged over agents) this episode: 1.9949999554082751\n",
      "# episode: 18 --- total score (averaged over agents) this episode: 2.1394999521784483\n",
      "# episode: 19 --- total score (averaged over agents) this episode: 2.6774999401532114\n",
      "# episode: 20 --- total score (averaged over agents) this episode: 2.467499944847077\n",
      "# episode: 21 --- total score (averaged over agents) this episode: 2.373499946948141\n",
      "# episode: 22 --- total score (averaged over agents) this episode: 2.405499946232885\n",
      "# episode: 23 --- total score (averaged over agents) this episode: 2.8299999367445707\n",
      "# episode: 24 --- total score (averaged over agents) this episode: 3.163999929279089\n",
      "# episode: 25 --- total score (averaged over agents) this episode: 2.908999934978783\n",
      "# episode: 26 --- total score (averaged over agents) this episode: 3.492999921925366\n",
      "# episode: 27 --- total score (averaged over agents) this episode: 3.6589999182149766\n",
      "# episode: 28 --- total score (averaged over agents) this episode: 4.120499907899648\n",
      "# episode: 29 --- total score (averaged over agents) this episode: 4.573499897774309\n",
      "# episode: 30 --- total score (averaged over agents) this episode: 4.509499899204821\n",
      "# episode: 31 --- total score (averaged over agents) this episode: 5.721999872103334\n",
      "# episode: 32 --- total score (averaged over agents) this episode: 7.008499843347818\n",
      "# episode: 33 --- total score (averaged over agents) this episode: 6.412499856669456\n",
      "# episode: 34 --- total score (averaged over agents) this episode: 7.1844998394139115\n",
      "# episode: 35 --- total score (averaged over agents) this episode: 8.213999816402794\n",
      "# episode: 36 --- total score (averaged over agents) this episode: 6.684999850578606\n",
      "# episode: 37 --- total score (averaged over agents) this episode: 7.513999832049012\n",
      "# episode: 38 --- total score (averaged over agents) this episode: 9.215999794006347\n",
      "# episode: 39 --- total score (averaged over agents) this episode: 8.870999801717698\n",
      "# episode: 40 --- total score (averaged over agents) this episode: 11.779499736707658\n",
      "# episode: 41 --- total score (averaged over agents) this episode: 13.806999691389501\n",
      "# episode: 42 --- total score (averaged over agents) this episode: 10.307999769598245\n",
      "# episode: 43 --- total score (averaged over agents) this episode: 13.655999694764613\n",
      "# episode: 44 --- total score (averaged over agents) this episode: 12.81149971364066\n",
      "# episode: 45 --- total score (averaged over agents) this episode: 13.358499701414257\n",
      "# episode: 46 --- total score (averaged over agents) this episode: 12.094999729655683\n",
      "# episode: 47 --- total score (averaged over agents) this episode: 13.811499691288919\n",
      "# episode: 48 --- total score (averaged over agents) this episode: 12.38399972319603\n",
      "# episode: 49 --- total score (averaged over agents) this episode: 17.9139995995909\n",
      "# episode: 50 --- total score (averaged over agents) this episode: 14.463999676704407\n",
      "# episode: 51 --- total score (averaged over agents) this episode: 16.79149962468073\n",
      "# episode: 52 --- total score (averaged over agents) this episode: 16.201499637868256\n",
      "# episode: 53 --- total score (averaged over agents) this episode: 14.486499676201493\n",
      "# episode: 54 --- total score (averaged over agents) this episode: 17.345999612286686\n",
      "# episode: 55 --- total score (averaged over agents) this episode: 16.846999623440205\n",
      "# episode: 56 --- total score (averaged over agents) this episode: 15.542499652598053\n",
      "# episode: 57 --- total score (averaged over agents) this episode: 16.325999635085463\n",
      "# episode: 58 --- total score (averaged over agents) this episode: 15.899499644618482\n",
      "# episode: 59 --- total score (averaged over agents) this episode: 16.111499639879913\n",
      "# episode: 60 --- total score (averaged over agents) this episode: 18.097499595489353\n",
      "# episode: 61 --- total score (averaged over agents) this episode: 18.705999581888317\n",
      "# episode: 62 --- total score (averaged over agents) this episode: 17.671999605000018\n",
      "# episode: 63 --- total score (averaged over agents) this episode: 17.7399996034801\n",
      "# episode: 64 --- total score (averaged over agents) this episode: 21.340499523002656\n",
      "# episode: 65 --- total score (averaged over agents) this episode: 17.25899961423129\n",
      "# episode: 66 --- total score (averaged over agents) this episode: 21.502999519370498\n",
      "# episode: 67 --- total score (averaged over agents) this episode: 21.039499529730527\n",
      "# episode: 68 --- total score (averaged over agents) this episode: 20.330499545577915\n",
      "# episode: 69 --- total score (averaged over agents) this episode: 25.29849943453446\n",
      "# episode: 70 --- total score (averaged over agents) this episode: 19.937999554350974\n",
      "# episode: 71 --- total score (averaged over agents) this episode: 22.66099949348718\n",
      "# episode: 72 --- total score (averaged over agents) this episode: 23.665999471023678\n",
      "# episode: 73 --- total score (averaged over agents) this episode: 22.20099950376898\n",
      "# episode: 74 --- total score (averaged over agents) this episode: 21.274499524477868\n",
      "# episode: 75 --- total score (averaged over agents) this episode: 22.392499499488622\n",
      "# episode: 76 --- total score (averaged over agents) this episode: 24.984499441552906\n",
      "# episode: 77 --- total score (averaged over agents) this episode: 24.59249945031479\n",
      "# episode: 78 --- total score (averaged over agents) this episode: 23.981499463971705\n",
      "# episode: 79 --- total score (averaged over agents) this episode: 24.86749944416806\n",
      "# episode: 80 --- total score (averaged over agents) this episode: 25.857499422039837\n",
      "# episode: 81 --- total score (averaged over agents) this episode: 25.30099943447858\n",
      "# episode: 82 --- total score (averaged over agents) this episode: 25.738499424699693\n",
      "# episode: 83 --- total score (averaged over agents) this episode: 26.541999406740068\n",
      "# episode: 84 --- total score (averaged over agents) this episode: 25.604499427694826\n",
      "# episode: 85 --- total score (averaged over agents) this episode: 25.104999438859522\n",
      "# episode: 86 --- total score (averaged over agents) this episode: 26.496499407757074\n",
      "# episode: 87 --- total score (averaged over agents) this episode: 25.357999433204533\n",
      "# episode: 88 --- total score (averaged over agents) this episode: 26.418999409489334\n",
      "# episode: 89 --- total score (averaged over agents) this episode: 26.146499415580184\n",
      "# episode: 90 --- total score (averaged over agents) this episode: 27.02399939596653\n",
      "# episode: 91 --- total score (averaged over agents) this episode: 25.46449943082407\n",
      "# episode: 92 --- total score (averaged over agents) this episode: 28.18149937009439\n",
      "# episode: 93 --- total score (averaged over agents) this episode: 29.18649934763089\n",
      "# episode: 94 --- total score (averaged over agents) this episode: 27.349499388691036\n",
      "# episode: 95 --- total score (averaged over agents) this episode: 27.30499938968569\n"
     ]
    },
    {
     "name": "stdout",
     "output_type": "stream",
     "text": [
      "# episode: 96 --- total score (averaged over agents) this episode: 28.056499372888357\n",
      "# episode: 97 --- total score (averaged over agents) this episode: 30.758999312482775\n",
      "# episode: 98 --- total score (averaged over agents) this episode: 28.19499936979264\n",
      "# episode: 99 --- total score (averaged over agents) this episode: 30.78999931178987\n",
      "# episode: 100 --- total score (averaged over agents) this episode: 31.1594993035309\n",
      "# episode: 101 --- total score (averaged over agents) this episode: 33.363499254267666\n",
      "# episode: 102 --- total score (averaged over agents) this episode: 32.28199927844107\n",
      "# episode: 103 --- total score (averaged over agents) this episode: 34.22849923493341\n",
      "# episode: 104 --- total score (averaged over agents) this episode: 35.875999198108914\n",
      "# episode: 105 --- total score (averaged over agents) this episode: 32.85649926559999\n",
      "# episode: 106 --- total score (averaged over agents) this episode: 35.56399920508265\n",
      "# episode: 107 --- total score (averaged over agents) this episode: 32.767999267578126\n",
      "# episode: 108 --- total score (averaged over agents) this episode: 34.5039992287755\n",
      "# episode: 109 --- total score (averaged over agents) this episode: 34.07899923827499\n",
      "# episode: 110 --- total score (averaged over agents) this episode: 36.42449918584898\n",
      "# episode: 111 --- total score (averaged over agents) this episode: 36.99799917303026\n",
      "# episode: 112 --- total score (averaged over agents) this episode: 33.908499242085966\n",
      "# episode: 113 --- total score (averaged over agents) this episode: 36.134499192330985\n",
      "# episode: 114 --- total score (averaged over agents) this episode: 35.718499201629314\n",
      "# episode: 115 --- total score (averaged over agents) this episode: 36.64899918083101\n",
      "# episode: 116 --- total score (averaged over agents) this episode: 37.118999170325694\n",
      "# episode: 117 --- total score (averaged over agents) this episode: 38.323999143391845\n",
      "# episode: 118 --- total score (averaged over agents) this episode: 38.02399915009737\n",
      "# episode: 119 --- total score (averaged over agents) this episode: 38.07949914885685\n",
      "# episode: 120 --- total score (averaged over agents) this episode: 38.5364991386421\n",
      "# episode: 121 --- total score (averaged over agents) this episode: 38.198499146196994\n",
      "# episode: 122 --- total score (averaged over agents) this episode: 38.841999131813644\n",
      "# episode: 123 --- total score (averaged over agents) this episode: 38.495499139558525\n",
      "# episode: 124 --- total score (averaged over agents) this episode: 38.87299913112074\n",
      "# episode: 125 --- total score (averaged over agents) this episode: 38.60049913721159\n",
      "# episode: 126 --- total score (averaged over agents) this episode: 38.81249913247302\n",
      "# episode: 127 --- total score (averaged over agents) this episode: 38.79699913281947\n",
      "# episode: 128 --- total score (averaged over agents) this episode: 38.84249913180247\n",
      "# episode: 129 --- total score (averaged over agents) this episode: 39.08399912640452\n",
      "# episode: 130 --- total score (averaged over agents) this episode: 38.974999128840864\n",
      "# episode: 131 --- total score (averaged over agents) this episode: 38.75049913385883\n",
      "# episode: 132 --- total score (averaged over agents) this episode: 39.04649912724271\n",
      "# episode: 133 --- total score (averaged over agents) this episode: 39.141499125119296\n",
      "# episode: 134 --- total score (averaged over agents) this episode: 38.842999131791295\n",
      "# episode: 135 --- total score (averaged over agents) this episode: 38.79999913275242\n",
      "# episode: 136 --- total score (averaged over agents) this episode: 38.88599913083017\n",
      "# episode: 137 --- total score (averaged over agents) this episode: 38.93199912980199\n",
      "# episode: 138 --- total score (averaged over agents) this episode: 39.141499125119296\n",
      "# episode: 139 --- total score (averaged over agents) this episode: 39.04949912717566\n",
      "# episode: 140 --- total score (averaged over agents) this episode: 39.11499912571162\n",
      "# episode: 141 --- total score (averaged over agents) this episode: 38.97449912885204\n",
      "# episode: 142 --- total score (averaged over agents) this episode: 38.89299913067371\n",
      "# episode: 143 --- total score (averaged over agents) this episode: 38.97049912894145\n",
      "# episode: 144 --- total score (averaged over agents) this episode: 38.98949912851676\n",
      "# episode: 145 --- total score (averaged over agents) this episode: 38.807999132573606\n",
      "# episode: 146 --- total score (averaged over agents) this episode: 38.92499912995845\n",
      "# episode: 147 --- total score (averaged over agents) this episode: 38.756499133724716\n",
      "# episode: 148 --- total score (averaged over agents) this episode: 38.863499131333086\n",
      "# episode: 149 --- total score (averaged over agents) this episode: 38.9529991293326\n",
      "# episode: 150 --- total score (averaged over agents) this episode: 38.87249913113192\n",
      "# episode: 151 --- total score (averaged over agents) this episode: 39.08799912631512\n",
      "# episode: 152 --- total score (averaged over agents) this episode: 38.76749913347885\n",
      "# episode: 153 --- total score (averaged over agents) this episode: 39.16749912453815\n",
      "# episode: 154 --- total score (averaged over agents) this episode: 39.0814991264604\n",
      "# episode: 155 --- total score (averaged over agents) this episode: 39.00949912806973\n",
      "# episode: 156 --- total score (averaged over agents) this episode: 39.20799912363291\n",
      "# episode: 157 --- total score (averaged over agents) this episode: 38.93149912981316\n",
      "# episode: 158 --- total score (averaged over agents) this episode: 38.940499129612\n",
      "# episode: 159 --- total score (averaged over agents) this episode: 39.133499125298115\n",
      "# episode: 160 --- total score (averaged over agents) this episode: 39.07149912668392\n",
      "# episode: 161 --- total score (averaged over agents) this episode: 38.9364991297014\n",
      "# episode: 162 --- total score (averaged over agents) this episode: 38.977499128784984\n",
      "# episode: 163 --- total score (averaged over agents) this episode: 39.052499127108604\n",
      "# episode: 164 --- total score (averaged over agents) this episode: 38.92899912986904\n",
      "# episode: 165 --- total score (averaged over agents) this episode: 39.01699912790209\n",
      "# episode: 166 --- total score (averaged over agents) this episode: 38.93199912980199\n",
      "# episode: 167 --- total score (averaged over agents) this episode: 39.10049912603572\n",
      "# episode: 168 --- total score (averaged over agents) this episode: 39.09199912622571\n",
      "# episode: 169 --- total score (averaged over agents) this episode: 39.2554991225712\n",
      "# episode: 170 --- total score (averaged over agents) this episode: 39.16099912468344\n",
      "# episode: 171 --- total score (averaged over agents) this episode: 39.03399912752211\n",
      "# episode: 172 --- total score (averaged over agents) this episode: 39.04349912730977\n",
      "# episode: 173 --- total score (averaged over agents) this episode: 38.79699913281947\n",
      "# episode: 174 --- total score (averaged over agents) this episode: 39.0689991267398\n",
      "# episode: 175 --- total score (averaged over agents) this episode: 39.10749912587926\n",
      "# episode: 176 --- total score (averaged over agents) this episode: 39.04299912732095\n",
      "# episode: 177 --- total score (averaged over agents) this episode: 38.825999132171276\n",
      "# episode: 178 --- total score (averaged over agents) this episode: 39.311999121308325\n",
      "# episode: 179 --- total score (averaged over agents) this episode: 38.95399912931025\n",
      "# episode: 180 --- total score (averaged over agents) this episode: 37.96549915140495\n",
      "# episode: 181 --- total score (averaged over agents) this episode: 38.98349912865088\n",
      "# episode: 182 --- total score (averaged over agents) this episode: 38.90299913045019\n",
      "# episode: 183 --- total score (averaged over agents) this episode: 38.80149913271889\n",
      "# episode: 184 --- total score (averaged over agents) this episode: 38.6939991351217\n",
      "# episode: 185 --- total score (averaged over agents) this episode: 38.29699914399534\n",
      "# episode: 186 --- total score (averaged over agents) this episode: 38.98549912860617\n",
      "# episode: 187 --- total score (averaged over agents) this episode: 39.08249912643805\n",
      "# episode: 188 --- total score (averaged over agents) this episode: 38.995499128382654\n",
      "# episode: 189 --- total score (averaged over agents) this episode: 38.906499130371955\n",
      "# episode: 190 --- total score (averaged over agents) this episode: 39.074499126616864\n"
     ]
    },
    {
     "name": "stdout",
     "output_type": "stream",
     "text": [
      "# episode: 191 --- total score (averaged over agents) this episode: 38.884499130863695\n",
      "# episode: 192 --- total score (averaged over agents) this episode: 39.20949912359938\n",
      "# episode: 193 --- total score (averaged over agents) this episode: 38.027999150007965\n",
      "# episode: 194 --- total score (averaged over agents) this episode: 38.68249913537875\n",
      "# episode: 195 --- total score (averaged over agents) this episode: 38.79949913276359\n",
      "# episode: 196 --- total score (averaged over agents) this episode: 39.053499127086255\n",
      "# episode: 197 --- total score (averaged over agents) this episode: 39.00999912805855\n",
      "# episode: 198 --- total score (averaged over agents) this episode: 39.013499127980324\n",
      "# episode: 199 --- total score (averaged over agents) this episode: 38.674999135546386\n",
      "# episode: 200 --- total score (averaged over agents) this episode: 38.91699913013726\n",
      "# episode: 201 --- total score (averaged over agents) this episode: 38.76349913356826\n",
      "# episode: 202 --- total score (averaged over agents) this episode: 38.366499142441896\n",
      "# episode: 203 --- total score (averaged over agents) this episode: 37.95599915161729\n",
      "# episode: 204 --- total score (averaged over agents) this episode: 38.251499145012346\n",
      "# episode: 205 --- total score (averaged over agents) this episode: 38.71299913469702\n",
      "# episode: 206 --- total score (averaged over agents) this episode: 38.40449914159253\n",
      "# episode: 207 --- total score (averaged over agents) this episode: 38.83199913203716\n",
      "# episode: 208 --- total score (averaged over agents) this episode: 38.60099913720042\n",
      "# episode: 209 --- total score (averaged over agents) this episode: 38.91599913015962\n",
      "# episode: 210 --- total score (averaged over agents) this episode: 39.20349912373349\n",
      "# episode: 211 --- total score (averaged over agents) this episode: 38.89299913067371\n",
      "# episode: 212 --- total score (averaged over agents) this episode: 38.79499913286418\n",
      "# episode: 213 --- total score (averaged over agents) this episode: 38.944999129511416\n",
      "# episode: 214 --- total score (averaged over agents) this episode: 38.372999142296614\n",
      "# episode: 215 --- total score (averaged over agents) this episode: 38.751499133836475\n",
      "# episode: 216 --- total score (averaged over agents) this episode: 38.65599913597107\n",
      "# episode: 217 --- total score (averaged over agents) this episode: 38.62649913663044\n",
      "# episode: 218 --- total score (averaged over agents) this episode: 37.180499168951066\n",
      "# episode: 219 --- total score (averaged over agents) this episode: 39.036999127455054\n",
      "# episode: 220 --- total score (averaged over agents) this episode: 39.03599912747741\n",
      "# episode: 221 --- total score (averaged over agents) this episode: 38.762999133579434\n",
      "# episode: 222 --- total score (averaged over agents) this episode: 38.978499128762635\n",
      "# episode: 223 --- total score (averaged over agents) this episode: 38.710999134741726\n",
      "# episode: 224 --- total score (averaged over agents) this episode: 38.47449914002791\n",
      "# episode: 225 --- total score (averaged over agents) this episode: 38.942499129567295\n",
      "# episode: 226 --- total score (averaged over agents) this episode: 38.282499144319445\n",
      "# episode: 227 --- total score (averaged over agents) this episode: 38.900999130494895\n",
      "# episode: 228 --- total score (averaged over agents) this episode: 38.9549991292879\n",
      "# episode: 229 --- total score (averaged over agents) this episode: 38.897499130573124\n",
      "# episode: 230 --- total score (averaged over agents) this episode: 38.73149913428351\n",
      "# episode: 231 --- total score (averaged over agents) this episode: 39.18349912418053\n",
      "# episode: 232 --- total score (averaged over agents) this episode: 39.17849912429229\n",
      "# episode: 233 --- total score (averaged over agents) this episode: 38.65899913590401\n",
      "# episode: 234 --- total score (averaged over agents) this episode: 38.539499138575046\n",
      "# episode: 235 --- total score (averaged over agents) this episode: 38.56199913807213\n",
      "# episode: 236 --- total score (averaged over agents) this episode: 38.80849913256243\n",
      "# episode: 237 --- total score (averaged over agents) this episode: 38.79649913283065\n",
      "# episode: 238 --- total score (averaged over agents) this episode: 38.76199913360178\n",
      "# episode: 239 --- total score (averaged over agents) this episode: 38.66049913587049\n",
      "# episode: 240 --- total score (averaged over agents) this episode: 38.54249913850799\n",
      "# episode: 241 --- total score (averaged over agents) this episode: 38.7519991338253\n",
      "# episode: 242 --- total score (averaged over agents) this episode: 39.10749912587926\n",
      "# episode: 243 --- total score (averaged over agents) this episode: 38.80749913258478\n",
      "# episode: 244 --- total score (averaged over agents) this episode: 38.97549912882969\n",
      "# episode: 245 --- total score (averaged over agents) this episode: 39.159499124716966\n",
      "# episode: 246 --- total score (averaged over agents) this episode: 38.92999912984669\n",
      "# episode: 247 --- total score (averaged over agents) this episode: 38.84749913169071\n",
      "# episode: 248 --- total score (averaged over agents) this episode: 38.908999130316076\n",
      "# episode: 249 --- total score (averaged over agents) this episode: 38.966999129019676\n"
     ]
    }
   ],
   "source": [
    "ppo_agent = agent.PPOAgent(config, wrapped_env)\n",
    "\n",
    "utils.misc.run_steps(ppo_agent)"
   ]
  },
  {
   "cell_type": "markdown",
   "metadata": {},
   "source": [
    "### Plot result"
   ]
  },
  {
   "cell_type": "code",
   "execution_count": 10,
   "metadata": {},
   "outputs": [],
   "source": [
    "import matplotlib.pylab as plt"
   ]
  },
  {
   "cell_type": "code",
   "execution_count": 11,
   "metadata": {},
   "outputs": [
    {
     "data": {
      "image/png": "[encoded data removed]",
      "text/plain": [
       "<Figure size 720x432 with 1 Axes>"
      ]
     },
     "metadata": {
      "needs_background": "light"
     },
     "output_type": "display_data"
    }
   ],
   "source": [
    "fig = plt.figure(figsize=(10,6))\n",
    "plt.plot(ppo_agent.mean_score_history)\n",
    "plt.grid()\n",
    "plt.title('Continuous Control - PPO')\n",
    "plt.xlabel('episode')\n",
    "plt.ylabel('Total score (averaged over agents)')\n",
    "fig.savefig('result-ppo.png')"
   ]
  }
 ],
 "metadata": {
  "kernelspec": {
   "display_name": "drlnd",
   "language": "python",
   "name": "drlnd"
  },
  "language_info": {
   "codemirror_mode": {
    "name": "ipython",
    "version": 3
   },
   "file_extension": ".py",
   "mimetype": "text/x-python",
   "name": "python",
   "nbconvert_exporter": "python",
   "pygments_lexer": "ipython3",
   "version": "3.6.8"
  }
 },
 "nbformat": 4,
 "nbformat_minor": 2
}
